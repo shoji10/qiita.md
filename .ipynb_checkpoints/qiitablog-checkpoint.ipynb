{
 "cells": [
  {
   "cell_type": "markdown",
   "id": "3c82595b",
   "metadata": {},
   "source": [
    "## pythonを学ぶ時に初めから意識しておきたいこと"
   ]
  },
  {
   "cell_type": "markdown",
   "id": "b74c5892",
   "metadata": {},
   "source": [
    "もしかしたらpythonに限らずこれからプログラミングを学ぶ人が意識しておきたいポイントかもしれません。\n",
    "\n",
    "今回のキーワードはこちら"
   ]
  },
  {
   "cell_type": "markdown",
   "id": "37e5e3be",
   "metadata": {},
   "source": [
    "## リーダブルコード"
   ]
  },
  {
   "cell_type": "markdown",
   "id": "efcd5709",
   "metadata": {},
   "source": [
    "このフレーズだけで何となくわかるかもしれません。\n",
    "リーダブル(読める)コード\n",
    "つまり、コードをみて何をしようとしているかわかるようにする、ということです。"
   ]
  },
  {
   "cell_type": "markdown",
   "id": "4c481098",
   "metadata": {},
   "source": [
    "それはつまりwordで読みやすい文章を書くように句読点や単語に気を付けるってこと？\n",
    "(ここにただのコードを書く)\n",
    "いいえ、それだけでは不十分なのです。\n",
    "忘れた頃にこのコードを読み返すとしましょう。書いた直後はこの行が何をしようとしているのかわかるとは思います。でも意外とわからなくなるそうです。\n",
    "なので何をしようとしているか、まで書いてあげるとわかりやすいですよね。\n",
    "\n",
    "特に初心者の段階では自分で書き写したコードを見返すときが多い上に何だったかわからなくなることもあるでしょう。(私は多々あるんですw)\n",
    "なので細かく解説を入れてあげるというのはとても重要で後々助かるので初めのうちから意識付けしたいですね。\n",
    "\n",
    "学生の頃を思い出しますね。\n",
    "嫌な思い出も一緒によみがえります。\n",
    "私はノートとるのものすごく下手くそでしたから。\n",
    "安心してください。同じように悩んできたプログラミングの先輩方がここ(Qiita)にどうすればいいか解決策を書き記してくれています。\n",
    "私もそれを参考にしながら書いていきます。"
   ]
  }
 ],
 "metadata": {
  "kernelspec": {
   "display_name": "Python 3 (ipykernel)",
   "language": "python",
   "name": "python3"
  },
  "language_info": {
   "codemirror_mode": {
    "name": "ipython",
    "version": 3
   },
   "file_extension": ".py",
   "mimetype": "text/x-python",
   "name": "python",
   "nbconvert_exporter": "python",
   "pygments_lexer": "ipython3",
   "version": "3.9.12"
  }
 },
 "nbformat": 4,
 "nbformat_minor": 5
}
